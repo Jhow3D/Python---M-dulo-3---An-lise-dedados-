{
  "nbformat": 4,
  "nbformat_minor": 0,
  "metadata": {
    "colab": {
      "name": "Aula 2 part 1- Python - Módulo 3.ipynb",
      "provenance": [],
      "collapsed_sections": [],
      "authorship_tag": "ABX9TyOz/VxfMl0+jYbnUSByW0es",
      "include_colab_link": true
    },
    "kernelspec": {
      "name": "python3",
      "display_name": "Python 3"
    },
    "language_info": {
      "name": "python"
    }
  },
  "cells": [
    {
      "cell_type": "markdown",
      "metadata": {
        "id": "view-in-github",
        "colab_type": "text"
      },
      "source": [
        "<a href=\"https://colab.research.google.com/github/Jhow3D/Python---M-dulo-3---An-lise-dedados-/blob/main/Aula_2_part_1_Python_M%C3%B3dulo_3.ipynb\" target=\"_parent\"><img src=\"https://colab.research.google.com/assets/colab-badge.svg\" alt=\"Open In Colab\"/></a>"
      ]
    },
    {
      "cell_type": "code",
      "execution_count": null,
      "metadata": {
        "id": "HNBzWuzCLbKR"
      },
      "outputs": [],
      "source": [
        "import pandas as pd\n",
        "import numpy as np"
      ]
    },
    {
      "cell_type": "markdown",
      "source": [
        "Serias: É um objeto unidimensional, tipo uma lista, que contém uma sequência de objetos do mesmo tipo. "
      ],
      "metadata": {
        "id": "p_nXCscJOZxm"
      }
    },
    {
      "cell_type": "code",
      "source": [
        "serie1 = pd.Series([10,9,8,2,5])\n",
        "serie1"
      ],
      "metadata": {
        "colab": {
          "base_uri": "https://localhost:8080/"
        },
        "id": "LM7s0BrdOTH1",
        "outputId": "a2fc270e-148f-4e33-acf8-12db26382944"
      },
      "execution_count": null,
      "outputs": [
        {
          "output_type": "execute_result",
          "data": {
            "text/plain": [
              "0    10\n",
              "1     9\n",
              "2     8\n",
              "3     2\n",
              "4     5\n",
              "dtype: int64"
            ]
          },
          "metadata": {},
          "execution_count": 12
        }
      ]
    },
    {
      "cell_type": "code",
      "source": [
        "serie2 = pd.Series([4,7,6,3], index = ['a','b','c','d'])"
      ],
      "metadata": {
        "id": "m2X8ePnPPTMv"
      },
      "execution_count": null,
      "outputs": []
    },
    {
      "cell_type": "code",
      "source": [
        "serie2['c']"
      ],
      "metadata": {
        "colab": {
          "base_uri": "https://localhost:8080/"
        },
        "id": "pb7nGRitPhcB",
        "outputId": "211bfc5c-396f-48c6-fcb5-50abef89f3b5"
      },
      "execution_count": null,
      "outputs": [
        {
          "output_type": "execute_result",
          "data": {
            "text/plain": [
              "6"
            ]
          },
          "metadata": {},
          "execution_count": 9
        }
      ]
    },
    {
      "cell_type": "code",
      "source": [
        "serie1 = np.array([10,9,8,2,5])\n",
        "serie1"
      ],
      "metadata": {
        "colab": {
          "base_uri": "https://localhost:8080/"
        },
        "id": "KZ60_GsJPmL3",
        "outputId": "7e007658-1168-4209-f432-f4c353548ed8"
      },
      "execution_count": null,
      "outputs": [
        {
          "output_type": "execute_result",
          "data": {
            "text/plain": [
              "array([10,  9,  8,  2,  5])"
            ]
          },
          "metadata": {},
          "execution_count": 10
        }
      ]
    },
    {
      "cell_type": "code",
      "source": [
        "serie1.index"
      ],
      "metadata": {
        "colab": {
          "base_uri": "https://localhost:8080/"
        },
        "id": "lNaq4jeJRban",
        "outputId": "d6cce00f-a873-4f0e-94ea-f1ad6dba8b86"
      },
      "execution_count": null,
      "outputs": [
        {
          "output_type": "execute_result",
          "data": {
            "text/plain": [
              "RangeIndex(start=0, stop=5, step=1)"
            ]
          },
          "metadata": {},
          "execution_count": 14
        }
      ]
    },
    {
      "cell_type": "markdown",
      "source": [
        "Criando Series randomicas ou aleatorias."
      ],
      "metadata": {
        "id": "gDU2RA6eS83U"
      }
    },
    {
      "cell_type": "code",
      "source": [
        "serie2 = pd.Series(np.random.rand(10), index=np.arange(1,11))\n",
        "serie2"
      ],
      "metadata": {
        "colab": {
          "base_uri": "https://localhost:8080/"
        },
        "id": "W3FLhBQYSvQP",
        "outputId": "b843d421-6467-45ff-9472-a51e9343d792"
      },
      "execution_count": null,
      "outputs": [
        {
          "output_type": "execute_result",
          "data": {
            "text/plain": [
              "1     0.701069\n",
              "2     0.466722\n",
              "3     0.056321\n",
              "4     0.873497\n",
              "5     0.976973\n",
              "6     0.393986\n",
              "7     0.314149\n",
              "8     0.327493\n",
              "9     0.891886\n",
              "10    0.290369\n",
              "dtype: float64"
            ]
          },
          "metadata": {},
          "execution_count": 15
        }
      ]
    },
    {
      "cell_type": "markdown",
      "source": [
        "Mais Series com Numpy "
      ],
      "metadata": {
        "id": "9B5QQNlNUBqn"
      }
    },
    {
      "cell_type": "code",
      "source": [
        "serie2 = pd.Series([True,7,6,3], index=[4.5,'b','c','d'])\n",
        "serie2"
      ],
      "metadata": {
        "colab": {
          "base_uri": "https://localhost:8080/"
        },
        "id": "jvEYFo8UUA6W",
        "outputId": "932f4350-98f0-4538-f93a-40a34e6f1b54"
      },
      "execution_count": null,
      "outputs": [
        {
          "output_type": "execute_result",
          "data": {
            "text/plain": [
              "4.5    True\n",
              "b         7\n",
              "c         6\n",
              "d         3\n",
              "dtype: object"
            ]
          },
          "metadata": {},
          "execution_count": 16
        }
      ]
    },
    {
      "cell_type": "code",
      "source": [
        "serie2['c']\n"
      ],
      "metadata": {
        "colab": {
          "base_uri": "https://localhost:8080/"
        },
        "id": "jheGjrNDUTSK",
        "outputId": "0139ff01-a4ca-48af-be02-06602583e48e"
      },
      "execution_count": null,
      "outputs": [
        {
          "output_type": "execute_result",
          "data": {
            "text/plain": [
              "6"
            ]
          },
          "metadata": {},
          "execution_count": 17
        }
      ]
    },
    {
      "cell_type": "code",
      "source": [
        "serie2[4.5]"
      ],
      "metadata": {
        "colab": {
          "base_uri": "https://localhost:8080/"
        },
        "id": "yu7-pKHZUWnK",
        "outputId": "85c1b54c-4354-4c58-f980-06329f255b65"
      },
      "execution_count": null,
      "outputs": [
        {
          "output_type": "execute_result",
          "data": {
            "text/plain": [
              "True"
            ]
          },
          "metadata": {},
          "execution_count": 18
        }
      ]
    },
    {
      "cell_type": "markdown",
      "source": [
        "Criando uma série a partir de um dicionário:"
      ],
      "metadata": {
        "id": "gbdOJVntUw0S"
      }
    },
    {
      "cell_type": "code",
      "source": [
        "capitais = {\n",
        "    'Pernambuco':'Recife',\n",
        "    'Paraiba':'João Pessoa',\n",
        "    'Ceará':'Fortaleza',\n",
        "    'Bahia':'Salvador',\n",
        "    'Alagoas':'Maceió'\n",
        "}"
      ],
      "metadata": {
        "id": "-xesAQjIU0VK"
      },
      "execution_count": null,
      "outputs": []
    },
    {
      "cell_type": "markdown",
      "source": [
        "type(capitais)"
      ],
      "metadata": {
        "id": "ji-aO_w8VIOk"
      }
    },
    {
      "cell_type": "code",
      "source": [
        "serie3 = pd.Series(capitais)\n",
        "serie3"
      ],
      "metadata": {
        "colab": {
          "base_uri": "https://localhost:8080/"
        },
        "id": "qK1i7NGYVjVB",
        "outputId": "1dc3d4b4-4259-497c-df62-3a03980a0efb"
      },
      "execution_count": null,
      "outputs": [
        {
          "output_type": "execute_result",
          "data": {
            "text/plain": [
              "Pernambuco         Recife\n",
              "Paraiba       João Pessoa\n",
              "Ceará           Fortaleza\n",
              "Bahia            Salvador\n",
              "Alagoas            Maceió\n",
              "dtype: object"
            ]
          },
          "metadata": {},
          "execution_count": 21
        }
      ]
    },
    {
      "cell_type": "code",
      "source": [
        "type(serie3)"
      ],
      "metadata": {
        "colab": {
          "base_uri": "https://localhost:8080/"
        },
        "id": "H2udYBRnV8Gd",
        "outputId": "d0a9f791-1b6a-4abe-8608-f514b334c3c6"
      },
      "execution_count": null,
      "outputs": [
        {
          "output_type": "execute_result",
          "data": {
            "text/plain": [
              "pandas.core.series.Series"
            ]
          },
          "metadata": {},
          "execution_count": 22
        }
      ]
    },
    {
      "cell_type": "code",
      "source": [
        "dictEmpresas = {'Apple': 947.062,\n",
        "                'Google': 819.573,\n",
        "                'Amazon': 705.646,\n",
        "                'Microsoft': 611.460,\n",
        "                'Tencent': 214.023,\n",
        "                'McDonalds': 196.526,\n",
        "                'Visa': 191.032,\n",
        "                'Facebook': 186.421,\n",
        "                'Alibaba': 169.966,\n",
        "                'Louis Vuitton': 124.273\n",
        "                }"
      ],
      "metadata": {
        "id": "m0dTsFxeWP8-"
      },
      "execution_count": null,
      "outputs": []
    },
    {
      "cell_type": "code",
      "source": [
        "dictEmpresas"
      ],
      "metadata": {
        "colab": {
          "base_uri": "https://localhost:8080/"
        },
        "id": "AYCv1tj6XGJO",
        "outputId": "d2f49433-b507-4a4e-978c-942d2c54304b"
      },
      "execution_count": null,
      "outputs": [
        {
          "output_type": "execute_result",
          "data": {
            "text/plain": [
              "{'Apple': 947.062,\n",
              " 'Google': 819.573,\n",
              " 'Amazon': 705.646,\n",
              " 'Microsoft': 611.46,\n",
              " 'Tencent': 214.023,\n",
              " 'McDonalds': 196.526,\n",
              " 'Visa': 191.032,\n",
              " 'Facebook': 186.421,\n",
              " 'Alibaba': 169.966,\n",
              " 'Louis Vuitton': 124.273}"
            ]
          },
          "metadata": {},
          "execution_count": 27
        }
      ]
    },
    {
      "cell_type": "code",
      "source": [
        "serie4 = pd.Series(dictEmpresas)\n",
        "serie4"
      ],
      "metadata": {
        "colab": {
          "base_uri": "https://localhost:8080/"
        },
        "id": "eE8d2jChXq2v",
        "outputId": "ffa5c8d6-f4f7-4330-bb7e-79f42545dc63"
      },
      "execution_count": null,
      "outputs": [
        {
          "output_type": "execute_result",
          "data": {
            "text/plain": [
              "Apple            947.062\n",
              "Google           819.573\n",
              "Amazon           705.646\n",
              "Microsoft        611.460\n",
              "Tencent          214.023\n",
              "McDonalds        196.526\n",
              "Visa             191.032\n",
              "Facebook         186.421\n",
              "Alibaba          169.966\n",
              "Louis Vuitton    124.273\n",
              "dtype: float64"
            ]
          },
          "metadata": {},
          "execution_count": 28
        }
      ]
    },
    {
      "cell_type": "code",
      "source": [
        "empresas = ['Apple','Google','Amazon','Microsoft',\n",
        "'Tencent',\"McDonald's\",'Visa','Facebook','Alibaba','LouisVuitton']\n"
      ],
      "metadata": {
        "id": "PCB-Cnf6YBlZ"
      },
      "execution_count": null,
      "outputs": []
    },
    {
      "cell_type": "code",
      "source": [
        "bilhoes = [947.062,\n",
        "819.573,\n",
        "705.646,\n",
        "611.460,\n",
        "214.023,\n",
        "196.526,\n",
        "191.032,\n",
        "186.421,\n",
        "169.966,\n",
        "124.273 ]"
      ],
      "metadata": {
        "id": "XPWP6SK_YaEF"
      },
      "execution_count": null,
      "outputs": []
    },
    {
      "cell_type": "code",
      "source": [
        "serie5 = pd.Series(bilhoes, index=empresas)\n",
        "serie5"
      ],
      "metadata": {
        "colab": {
          "base_uri": "https://localhost:8080/"
        },
        "id": "XzDcedetZfOL",
        "outputId": "9ba6a84d-8966-4e7e-f7ca-5aa243d6b0f9"
      },
      "execution_count": null,
      "outputs": [
        {
          "output_type": "execute_result",
          "data": {
            "text/plain": [
              "Apple           947.062\n",
              "Google          819.573\n",
              "Amazon          705.646\n",
              "Microsoft       611.460\n",
              "Tencent         214.023\n",
              "McDonald's      196.526\n",
              "Visa            191.032\n",
              "Facebook        186.421\n",
              "Alibaba         169.966\n",
              "LouisVuitton    124.273\n",
              "dtype: float64"
            ]
          },
          "metadata": {},
          "execution_count": 40
        }
      ]
    },
    {
      "cell_type": "markdown",
      "source": [
        "Criando um gráfico com a biblioteca matplot"
      ],
      "metadata": {
        "id": "xqZ4kZoBboYP"
      }
    },
    {
      "cell_type": "code",
      "source": [
        "import matplotlib.pyplot as plt\n"
      ],
      "metadata": {
        "id": "v_ncmTDXbnKi"
      },
      "execution_count": null,
      "outputs": []
    },
    {
      "cell_type": "code",
      "source": [
        "serie5.plot()"
      ],
      "metadata": {
        "colab": {
          "base_uri": "https://localhost:8080/",
          "height": 282
        },
        "id": "sTUFtEJSb2_A",
        "outputId": "82516b7a-3434-42bb-e146-bf54176c8883"
      },
      "execution_count": null,
      "outputs": [
        {
          "output_type": "execute_result",
          "data": {
            "text/plain": [
              "<matplotlib.axes._subplots.AxesSubplot at 0x7f038f3f3650>"
            ]
          },
          "metadata": {},
          "execution_count": 42
        },
        {
          "output_type": "display_data",
          "data": {
            "text/plain": [
              "<Figure size 432x288 with 1 Axes>"
            ],
            "image/png": "[encoded data removed]"
          },
          "metadata": {
            "needs_background": "light"
          }
        }
      ]
    },
    {
      "cell_type": "code",
      "source": [
        "serie5.plot(kind = 'bar')"
      ],
      "metadata": {
        "colab": {
          "base_uri": "https://localhost:8080/",
          "height": 334
        },
        "id": "ZfM9zswbc7G5",
        "outputId": "591fdf3b-7d92-446d-9575-91068aea9e82"
      },
      "execution_count": null,
      "outputs": [
        {
          "output_type": "execute_result",
          "data": {
            "text/plain": [
              "<matplotlib.axes._subplots.AxesSubplot at 0x7f038eaa0d90>"
            ]
          },
          "metadata": {},
          "execution_count": 46
        },
        {
          "output_type": "display_data",
          "data": {
            "text/plain": [
              "<Figure size 432x288 with 1 Axes>"
            ],
            "image/png": "[encoded data removed]"
          },
          "metadata": {
            "needs_background": "light"
          }
        }
      ]
    }
  ]
}